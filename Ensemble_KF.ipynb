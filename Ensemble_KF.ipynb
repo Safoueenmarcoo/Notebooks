{
 "cells": [
  {
   "cell_type": "code",
   "execution_count": 19,
   "metadata": {},
   "outputs": [],
   "source": [
    "import jax.numpy as jnp\n",
    "from jax import vmap\n",
    "from utils_v2 import KalmanFilter, ExtendedKalmanFilter\n",
    "from typing import Tuple"
   ]
  },
  {
   "cell_type": "code",
   "execution_count": null,
   "metadata": {},
   "outputs": [],
   "source": [
    "class EnsembleKalmanFilter(KalmanFilter):\n",
    "    def __init__(self, x_0, ensemble_size, f, h, H, C, R, Q, Z, w_k, P_0):\n",
    "        super().__init__(x_0, None, None, None, None, R, Q, Z, w_k, None)\n",
    "        self.ensemble_size = ensemble_size"
   ]
  },
  {
   "cell_type": "code",
   "execution_count": null,
   "metadata": {},
   "outputs": [],
   "source": [
    "class EnsembleKalmanFilter2(ExtendedKalmanFilter):\n",
    "    def __init__(\n",
    "        self,\n",
    "        x_0: jnp.ndarray,\n",
    "        ensemble_size: int,\n",
    "        f: callable,\n",
    "        h: callable,\n",
    "        R: jnp.ndarray,\n",
    "        Q: jnp.ndarray,\n",
    "        Z: jnp.ndarray,\n",
    "        w_k: jnp.ndarray,\n",
    "        jaccobian_h: callable,\n",
    "    ) -> None:\n",
    "        super().__init__(None, f, h, R, Q, Z, w_k, None, None, jaccobian_h)\n",
    "        self.ensemble_size = ensemble_size\n",
    "        self.x_0 = x_0\n",
    "        self.x_k = jnp.stack([x_0] * self.ensemble_size, axis=1)\n",
    "\n",
    "    def _step_estimation(self, u_k: jnp.ndarray) -> jnp.ndarray:\n",
    "        try:\n",
    "            # Ensemble prediction\n",
    "            self.x_k = vmap(lambda x: self.f(x, u_k) + self.w_k, in_axes=1, out_axes=1)(self.x_k)\n",
    "\n",
    "            return self.x_k\n",
    "        except Exception as e:\n",
    "            raise RuntimeError(\n",
    "                f\"Error in the EnKF step estimation function: {e}\"\n",
    "            ) from e\n",
    "\n",
    "    def _process_covariance(self) -> Tuple[jnp.ndarray, jnp.ndarray]:\n",
    "        \"\"\"\n",
    "        Update error covariance matrix using system dynamics and process noise.\n",
    "\n",
    "        Returns:\n",
    "            Updated covariance matrix (n x n)\n",
    "        \"\"\"\n",
    "\n",
    "        try:\n",
    "            # Ensemble mean\n",
    "            x_k_mean = jnp.mean(self.x_k, axis=1)\n",
    "            # Ensemble perturbation\n",
    "            x_k_perturbation = self.x_k - x_k_mean[:, None]\n",
    "            # Ensemble covariance\n",
    "            p_k = x_k_perturbation @ x_k_perturbation.T / (self.ensemble_size - 1)\n",
    "            return p_k, x_k_mean\n",
    "        except Exception as e:\n",
    "            raise RuntimeError(\n",
    "                f\"Error in the EnKF proccess covariance function: {e}\"\n",
    "            ) from e\n",
    "\n",
    "    def _update_x_k(self, x: jnp.ndarray, measurements: jnp.ndarray) -> jnp.ndarray:\n",
    "        x_k = x + self.K @ (measurements - self.H @ self.x_k)\n",
    "        return x_k\n",
    "\n",
    "    def _current_state_and_process(\n",
    "        self, x_km: jnp.ndarray\n",
    "    ) -> Tuple[jnp.ndarray, jnp.ndarray]:\n",
    "        \"\"\"\n",
    "        Update state estimate using measurement and Kalman gain.\n",
    "\n",
    "        Args:\n",
    "            x_km: Noisy measurement vector (p x 1)\n",
    "\n",
    "        Returns:\n",
    "            Tuple containing:\n",
    "            - Corrected state estimate (n x 1)\n",
    "            - Updated error covariance (n x n)\n",
    "        \"\"\"\n",
    "        try:\n",
    "            measurements = self.h(x_km) + self.Z\n",
    "            x_k = vmap(\n",
    "                lambda x: self._update_x_k(x, measurements), in_axes=1, out_axes=1\n",
    "            )(self.x_k)\n",
    "            p_k = (jnp.eye(self.K.shape[0]) - self.K @ self.H) @ self.P\n",
    "            return x_k, p_k\n",
    "        except Exception as e:\n",
    "            raise RuntimeError(\n",
    "                f\"Error in the EnKF new state and proccess calculation function, the error: {e}\"\n",
    "            ) from e\n",
    "\n",
    "    def predict(self, u_k: jnp.ndarray) -> jnp.ndarray:\n",
    "        \"\"\"\n",
    "        Predicts the next state based on the control input and process model.\n",
    "\n",
    "        Parameters:\n",
    "            u_k (ndarray): Control input vector of shape (m, 1).\n",
    "\n",
    "        Returns:\n",
    "            ndarray: Updated state estimate vector of shape (n,).\n",
    "        \"\"\"\n",
    "        try:\n",
    "            self.x_k = self._step_estimation(u_k).squeeze()\n",
    "            self.P, _ = self._process_covariance()\n",
    "            return self.x_k\n",
    "        except Exception as e:\n",
    "            raise RuntimeError(f\"Error in the EnKF predict method: {e}\") from e"
   ]
  },
  {
   "cell_type": "code",
   "execution_count": null,
   "metadata": {},
   "outputs": [
    {
     "name": "stdout",
     "output_type": "stream",
     "text": [
      "[[2 2 2 2]\n",
      " [4 4 4 4]\n",
      " [6 6 6 6]]\n"
     ]
    }
   ],
   "source": [
    "arr = jnp.array([1, 2, 3])\n",
    "N = 4\n",
    "\n",
    "stacked = jnp.stack([arr] * N, axis=1)  # Stacks along a new axis\n",
    "\n",
    "print(stacked + jnp.array([1, 2, 3]).reshape(-1, 1))"
   ]
  },
  {
   "cell_type": "code",
   "execution_count": null,
   "metadata": {},
   "outputs": [
    {
     "name": "stdout",
     "output_type": "stream",
     "text": [
      "[[   2    2    2    2]\n",
      " [ 258  258  258  258]\n",
      " [6564 6564 6564 6564]]\n"
     ]
    }
   ],
   "source": [
    "def f(x):\n",
    "    return x**2\n",
    "\n",
    "\n",
    "for i in range(4):\n",
    "    stacked = stacked.at[:, i].set(f(stacked[:, i]))\n",
    "print(stacked + jnp.array([1, 2, 3]).reshape(-1, 1))"
   ]
  },
  {
   "cell_type": "code",
   "execution_count": 33,
   "metadata": {},
   "outputs": [
    {
     "data": {
      "text/plain": [
       "Array([[1, 1, 1, 1],\n",
       "       [4, 4, 4, 4],\n",
       "       [9, 9, 9, 9]], dtype=int32)"
      ]
     },
     "execution_count": 33,
     "metadata": {},
     "output_type": "execute_result"
    }
   ],
   "source": [
    "stacked = vmap(lambda x: f(x), in_axes=0, out_axes=0)(stacked)\n",
    "stacked"
   ]
  },
  {
   "cell_type": "code",
   "execution_count": null,
   "metadata": {},
   "outputs": [],
   "source": []
  }
 ],
 "metadata": {
  "kernelspec": {
   "display_name": "Python 3",
   "language": "python",
   "name": "python3"
  },
  "language_info": {
   "codemirror_mode": {
    "name": "ipython",
    "version": 3
   },
   "file_extension": ".py",
   "mimetype": "text/x-python",
   "name": "python",
   "nbconvert_exporter": "python",
   "pygments_lexer": "ipython3",
   "version": "3.12.2"
  }
 },
 "nbformat": 4,
 "nbformat_minor": 2
}
