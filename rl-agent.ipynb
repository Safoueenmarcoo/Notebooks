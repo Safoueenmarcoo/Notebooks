{
 "cells": [
  {
   "cell_type": "code",
   "execution_count": 1,
   "metadata": {},
   "outputs": [],
   "source": [
    "from utils import Agent\n",
    "import gymnasium as gym\n",
    "from gym.spaces import Box"
   ]
  },
  {
   "cell_type": "code",
   "execution_count": 16,
   "metadata": {},
   "outputs": [],
   "source": [
    "import numpy as np\n",
    "env = gym.make(\"Taxi-v3\", render_mode='rgb_array')\n",
    "episodes=2000\n",
    "q_table=np.zeros((env.observation_space.n,env.action_space.n))\n",
    "max_actions=100\n",
    "\n",
    "epsilon_decay = 0.995\n",
    "epsilon_min = 0.01\n",
    "epsilon = 1\n",
    "\n",
    "done_actions = 0\n",
    "alpha = 0.1\n",
    "gamma = 0.95\n",
    "\n",
    "episode_returns=[]\n",
    "for episode in range(1,episodes+1):\n",
    "    rewards=0\n",
    "    state,_=env.reset()\n",
    "    done = False\n",
    "    \n",
    "    done_actions=0\n",
    "    while not done and done_actions<max_actions:\n",
    "        if np.random.random()>epsilon:\n",
    "            action = np.argmax(q_table[state])\n",
    "        else:\n",
    "            action = env.action_space.sample()\n",
    "        new_state,reward,done,_,_=env.step(action)\n",
    "        rewards+=reward\n",
    "        done_actions+=1\n",
    "        q_table[state,action]=(1-alpha)*q_table[state,action] + alpha * (reward + gamma * max(q_table[new_state]))\n",
    "        state=new_state\n",
    "    epsilon = max(epsilon_min,epsilon_decay * epsilon)\n",
    "    episode_returns.append(rewards)"
   ]
  },
  {
   "cell_type": "code",
   "execution_count": 17,
   "metadata": {},
   "outputs": [],
   "source": [
    "policy={state:np.argmax(q_table[state]) for state in range(env.observation_space.n)}"
   ]
  },
  {
   "cell_type": "code",
   "execution_count": 18,
   "metadata": {},
   "outputs": [
    {
     "data": {
      "text/plain": [
       "8"
      ]
     },
     "execution_count": 18,
     "metadata": {},
     "output_type": "execute_result"
    }
   ],
   "source": [
    "state,_=env.reset(seed=42)\n",
    "done = False\n",
    "frames=[]\n",
    "done_actions=0\n",
    "episode_total_reward=0\n",
    "max_actions=16\n",
    "while not done and done_actions<max_actions:\n",
    "    action=policy[state]\n",
    "    state,reward,done,_,_=env.step(action)\n",
    "    episode_total_reward+=reward\n",
    "    done_actions+=1\n",
    "    frames.append(env.render())\n",
    "episode_total_reward"
   ]
  },
  {
   "cell_type": "code",
   "execution_count": 97,
   "metadata": {},
   "outputs": [
    {
     "name": "stdout",
     "output_type": "stream",
     "text": [
      "Episode: 1, Rewards: 82.0\n",
      "Episode: 2, Rewards: 87.0\n",
      "Episode: 3, Rewards: 86.0\n",
      "Episode: 4, Rewards: 85.0\n",
      "Episode: 5, Rewards: 87.0\n",
      "Episode: 6, Rewards: 86.0\n",
      "Episode: 7, Rewards: 85.0\n",
      "Episode: 8, Rewards: 84.0\n",
      "Episode: 9, Rewards: 81.0\n",
      "Episode: 10, Rewards: 85.0\n",
      "mean_rewards: 84.8 (8.48 %)\n"
     ]
    }
   ],
   "source": [
    "env = gym.make(\"CartPole-v1\")\n",
    "env._max_episode_steps=1000\n",
    "rewardss = 0\n",
    "episodes = 10\n",
    "for ep in range(episodes):\n",
    "    state = env.reset()[0]\n",
    "    rewards = 0\n",
    "    while True:\n",
    "        action = np.argmax(agent.model.predict(state.reshape((-1,state.shape[0])),verbose=0))\n",
    "        state, reward, done, truncuated, info = env.step(action)\n",
    "        rewards += reward\n",
    "        if done or truncuated:\n",
    "            break\n",
    "    print(f\"Episode: {ep+1}, Rewards: {rewards}\")\n",
    "    rewardss += rewards\n",
    "mean=round(rewardss/(episodes),2)\n",
    "print(f\"mean_rewards: {mean} ({round(mean/env._max_episode_steps*100,2)} %)\")"
   ]
  },
  {
   "cell_type": "code",
   "execution_count": 33,
   "metadata": {},
   "outputs": [
    {
     "name": "stdout",
     "output_type": "stream",
     "text": [
      "Observation space: Discrete(16)\n",
      "The observation space is discrete.\n"
     ]
    }
   ],
   "source": [
    "\n",
    "\n",
    "print(\"Observation space:\", env.observation_space)\n",
    "\n",
    "\n",
    "    print(\"The observation space is discrete.\")\n",
    "elif isinstance(env.observation_space, Box):\n",
    "    print(\"The observation space is continuous.\")\n",
    "else:\n",
    "    print(\"The observation space is of another type:\", type(env.observation_space))"
   ]
  },
  {
   "cell_type": "code",
   "execution_count": 30,
   "metadata": {},
   "outputs": [
    {
     "data": {
      "text/plain": [
       "Box([-4.8000002e+00 -3.4028235e+38 -4.1887903e-01 -3.4028235e+38], [4.8000002e+00 3.4028235e+38 4.1887903e-01 3.4028235e+38], (4,), float32)"
      ]
     },
     "execution_count": 30,
     "metadata": {},
     "output_type": "execute_result"
    }
   ],
   "source": [
    "env.observation_space"
   ]
  },
  {
   "cell_type": "code",
   "execution_count": 14,
   "metadata": {},
   "outputs": [
    {
     "data": {
      "text/plain": [
       "{'render_modes': ['human', 'ansi', 'rgb_array'], 'render_fps': 4}"
      ]
     },
     "execution_count": 14,
     "metadata": {},
     "output_type": "execute_result"
    }
   ],
   "source": [
    "env= gym.make(\"FrozenLake-v1\",is_slippery=False)\n",
    "env.unwrapped.\n"
   ]
  },
  {
   "cell_type": "code",
   "execution_count": null,
   "metadata": {},
   "outputs": [],
   "source": []
  }
 ],
 "metadata": {
  "kernelspec": {
   "display_name": "Python 3",
   "language": "python",
   "name": "python3"
  },
  "language_info": {
   "codemirror_mode": {
    "name": "ipython",
    "version": 3
   },
   "file_extension": ".py",
   "mimetype": "text/x-python",
   "name": "python",
   "nbconvert_exporter": "python",
   "pygments_lexer": "ipython3",
   "version": "3.12.2"
  }
 },
 "nbformat": 4,
 "nbformat_minor": 2
}
