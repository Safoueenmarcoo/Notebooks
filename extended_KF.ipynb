{
 "cells": [
  {
   "cell_type": "code",
   "execution_count": 1,
   "metadata": {},
   "outputs": [],
   "source": [
    "import jax.numpy as jnp\n",
    "from jax import grad, jacfwd\n",
    "from utils_v2 import KalmanFilter"
   ]
  },
  {
   "cell_type": "code",
   "execution_count": null,
   "metadata": {},
   "outputs": [],
   "source": [
    "class ExtendedKalmanFilter(KalmanFilter):\n",
    "    def __init__(\n",
    "        self,\n",
    "        x_0: jnp.ndarray | float,\n",
    "        f: callable,\n",
    "        h: callable,\n",
    "        R: jnp.ndarray,\n",
    "        Q: jnp.ndarray,\n",
    "        Z: jnp.ndarray,\n",
    "        w_k: jnp.ndarray,\n",
    "        P_0: jnp.ndarray,\n",
    "    ):\n",
    "        super().__init__(x_0, None, None, None, R, None, Q, Z, w_k, P_0)\n",
    "        self.f = f  # f is the non linear function in EKF and A and B are the linear functions in KF\n",
    "        self.h = h  # h is the non linear function in EKF and C and H are the linear functions in KF\n",
    "\n",
    "    def derivative(self, x: float, h: float = 1e-5):\n",
    "        return (self.f(x + h) - self.f(x - h)) / (2 * h)\n",
    "\n",
    "    def gradient(self, x: jnp.ndarray):\n",
    "        grad_f = grad(self.f)\n",
    "        return grad_f(x)\n",
    "\n",
    "    def jacobian(self, x: jnp.ndarray):\n",
    "        jac_F = jacfwd(self.f)\n",
    "        return jac_F(x)\n",
    "\n",
    "    def predict(self):\n",
    "        if type(self.x_k)==float or (type(self.x_k)==jnp.ndarray and self.x_k.flatten().shape==(1,)):\n",
    "            \n",
    "        self.x_k = self.f(self.x_k) + self.w_k\n",
    "        self.F = self.jacobian(self.x_k)\n",
    "        self.P_k = self.F @ self.P_k @ self.F.T + self.Q\n",
    "        self.P = self.F @ self.P @ self.F.T + self.Q\n",
    "\n",
    "    def update(self, z):\n",
    "        y = z - self.h(self.x)\n",
    "        H = self.jacobian(self.x)\n",
    "        S = H @ self.P @ H.T + self.R\n",
    "        K = self.P @ H.T @ jnp.linalg.inv(S)\n",
    "        self.x = self.x + K @ y\n",
    "        self.P = self.P - K @ H @ self.P\n"
   ]
  },
  {
   "cell_type": "code",
   "execution_count": null,
   "metadata": {},
   "outputs": [
    {
     "name": "stdout",
     "output_type": "stream",
     "text": [
      "[3 5]\n"
     ]
    }
   ],
   "source": [
    "def F(x):\n",
    "    return jnp.array([x[0] ** 2 + x[1], x[0] + x[1] ** 2])\n",
    "\n",
    "\n",
    "print(F(jnp.array([1, 2])))"
   ]
  },
  {
   "cell_type": "code",
   "execution_count": 16,
   "metadata": {},
   "outputs": [
    {
     "name": "stdout",
     "output_type": "stream",
     "text": [
      "False\n"
     ]
    }
   ],
   "source": [
    "x=jnp.array([[1,2]])\n",
    "print(x.flatten().shape==(1,))"
   ]
  },
  {
   "cell_type": "code",
   "execution_count": null,
   "metadata": {},
   "outputs": [],
   "source": []
  }
 ],
 "metadata": {
  "kernelspec": {
   "display_name": "Python 3",
   "language": "python",
   "name": "python3"
  },
  "language_info": {
   "codemirror_mode": {
    "name": "ipython",
    "version": 3
   },
   "file_extension": ".py",
   "mimetype": "text/x-python",
   "name": "python",
   "nbconvert_exporter": "python",
   "pygments_lexer": "ipython3",
   "version": "3.12.2"
  }
 },
 "nbformat": 4,
 "nbformat_minor": 2
}
