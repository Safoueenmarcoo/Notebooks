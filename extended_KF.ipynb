{
 "cells": [
  {
   "cell_type": "code",
   "execution_count": 31,
   "metadata": {},
   "outputs": [],
   "source": [
    "import jax.numpy as jnp\n",
    "from jax import grad, jacfwd\n",
    "from utils_v2 import KalmanFilter\n",
    "from typing import Tuple"
   ]
  },
  {
   "cell_type": "code",
   "execution_count": 33,
   "metadata": {},
   "outputs": [],
   "source": [
    "class ExtendedKalmanFilter(KalmanFilter):\n",
    "    def __init__(\n",
    "        self,\n",
    "        x_0: jnp.ndarray | float,\n",
    "        f: callable,\n",
    "        h: callable,\n",
    "        R: jnp.ndarray,\n",
    "        Q: jnp.ndarray,\n",
    "        Z: jnp.ndarray,\n",
    "        w_k: jnp.ndarray,\n",
    "        P_0: jnp.ndarray,\n",
    "    ):\n",
    "        super().__init__(x_0, None, None, None, None, R, Q, Z, w_k, P_0)\n",
    "        self.f = f  # f is the non linear function in EKF and A and B are the linear functions in KF\n",
    "        self.h = h  # h is the non linear function in EKF and C and H are the linear functions in KF\n",
    "\n",
    "        self.set_matrices()\n",
    "\n",
    "    def derivative(self, f: callable, x: float | jnp.ndarray, h: float = 1e-5) -> float:\n",
    "        if type(x) is jnp.ndarray:\n",
    "            x = x[0]\n",
    "        return (f(x + h) - f(x - h)) / (2 * h)\n",
    "\n",
    "    def gradient(self, f: callable, x: jnp.ndarray) -> jnp.ndarray:\n",
    "        grad_f = grad(f)\n",
    "        return jnp.array(grad_f(x))\n",
    "\n",
    "    def jacobian(self, f: callable, x: jnp.ndarray) -> jnp.ndarray:\n",
    "        jac_F = jacfwd(f)\n",
    "        return jac_F(x)\n",
    "\n",
    "    def set_matrices(self) -> None:\n",
    "        if type(self.x_k) is float or (\n",
    "            type(self.x_k) is jnp.ndarray and self.x_k.flatten().shape == (1,)\n",
    "        ):\n",
    "            self.A = self.derivative(self.f, self.x_k)\n",
    "            self.H = self.derivative(self.h, self.x_k)\n",
    "\n",
    "        elif self.x_k.squeeze().shape == (1,):\n",
    "            self.A = self.gradient(self.f, self.x_k)\n",
    "            self.H = self.gradient(self.h, self.x_k)\n",
    "        else:\n",
    "            self.A = self.jacobian(self.f, self.x_k)\n",
    "            self.H = self.jacobian(self.h, self.x_k)\n",
    "\n",
    "    def step_estimation(self, u_k: jnp.ndarray) -> jnp.ndarray:\n",
    "        \"\"\"\n",
    "        Predict next state using system dynamics and control input.\n",
    "\n",
    "        Args:\n",
    "            u_k: Control input vector (m x 1)\n",
    "\n",
    "        Returns:\n",
    "            Predicted state vector (n x 1)\n",
    "        \"\"\"\n",
    "\n",
    "        try:\n",
    "            new_x_k = self.f(self.x_k, u_k) + self.w_k\n",
    "            return new_x_k\n",
    "        except Exception as e:\n",
    "            print(\n",
    "                \"Error in the Extended Kalman Filter step estimation function, the error: \",\n",
    "                e,\n",
    "            )\n",
    "\n",
    "    def current_state_and_process(\n",
    "        self, x_km: jnp.ndarray\n",
    "    ) -> Tuple[jnp.ndarray, jnp.ndarray]:\n",
    "        \"\"\"\n",
    "        Update state estimate using measurement and Kalman gain.\n",
    "\n",
    "        Args:\n",
    "            x_km: Noisy measurement vector (p x 1)\n",
    "\n",
    "        Returns:\n",
    "            Tuple containing:\n",
    "            - Corrected state estimate (n x 1)\n",
    "            - Updated error covariance (n x n)\n",
    "        \"\"\"\n",
    "        try:\n",
    "            Y = self.h(x_km) + self.Z\n",
    "            x_k = self.x_k + self.K @ (Y - self.H @ self.x_k)\n",
    "            p_k = (jnp.eye(self.K.shape[0]) - self.K @ self.H) @ self.P\n",
    "            return x_k, p_k\n",
    "        except Exception as e:\n",
    "            print(\n",
    "                \"Error in the Extended Kalman Filter new state and proccess calculation function, the error: \",\n",
    "                e,\n",
    "            )\n"
   ]
  },
  {
   "cell_type": "code",
   "execution_count": null,
   "metadata": {},
   "outputs": [],
   "source": [
    "def F(x):\n",
    "    return x[0] + x[1]"
   ]
  },
  {
   "cell_type": "code",
   "execution_count": null,
   "metadata": {},
   "outputs": [
    {
     "ename": "TypeError",
     "evalue": "Gradient only defined for scalar-output functions. Output had shape: (2,).",
     "output_type": "error",
     "traceback": [
      "\u001b[1;31m---------------------------------------------------------------------------\u001b[0m",
      "\u001b[1;31mTypeError\u001b[0m                                 Traceback (most recent call last)",
      "Cell \u001b[1;32mIn[29], line 5\u001b[0m\n\u001b[0;32m      3\u001b[0m grad_f \u001b[38;5;241m=\u001b[39m grad(F)  \u001b[38;5;66;03m# Computes the gradient function\u001b[39;00m\n\u001b[0;32m      4\u001b[0m x0 \u001b[38;5;241m=\u001b[39m jnp\u001b[38;5;241m.\u001b[39marray([\u001b[38;5;241m2.0\u001b[39m, \u001b[38;5;241m3.0\u001b[39m])\n\u001b[1;32m----> 5\u001b[0m \u001b[38;5;28mprint\u001b[39m(\u001b[43mgrad_f\u001b[49m\u001b[43m(\u001b[49m\u001b[43mx0\u001b[49m\u001b[43m)\u001b[49m)  \u001b[38;5;66;03m# Output: [4. 6.]\u001b[39;00m\n",
      "    \u001b[1;31m[... skipping hidden 4 frame]\u001b[0m\n",
      "File \u001b[1;32mc:\\Users\\hamed\\AppData\\Local\\Programs\\Python\\Python312\\Lib\\site-packages\\jax\\_src\\api.py:492\u001b[0m, in \u001b[0;36m_check_scalar\u001b[1;34m(x)\u001b[0m\n\u001b[0;32m    490\u001b[0m \u001b[38;5;28;01mif\u001b[39;00m \u001b[38;5;28misinstance\u001b[39m(aval, ShapedArray):\n\u001b[0;32m    491\u001b[0m   \u001b[38;5;28;01mif\u001b[39;00m aval\u001b[38;5;241m.\u001b[39mshape \u001b[38;5;241m!=\u001b[39m ():\n\u001b[1;32m--> 492\u001b[0m     \u001b[38;5;28;01mraise\u001b[39;00m \u001b[38;5;167;01mTypeError\u001b[39;00m(msg(\u001b[38;5;124mf\u001b[39m\u001b[38;5;124m\"\u001b[39m\u001b[38;5;124mhad shape: \u001b[39m\u001b[38;5;132;01m{\u001b[39;00maval\u001b[38;5;241m.\u001b[39mshape\u001b[38;5;132;01m}\u001b[39;00m\u001b[38;5;124m\"\u001b[39m))\n\u001b[0;32m    493\u001b[0m \u001b[38;5;28;01melse\u001b[39;00m:\n\u001b[0;32m    494\u001b[0m   \u001b[38;5;28;01mraise\u001b[39;00m \u001b[38;5;167;01mTypeError\u001b[39;00m(msg(\u001b[38;5;124mf\u001b[39m\u001b[38;5;124m\"\u001b[39m\u001b[38;5;124mhad abstract value \u001b[39m\u001b[38;5;132;01m{\u001b[39;00maval\u001b[38;5;132;01m}\u001b[39;00m\u001b[38;5;124m\"\u001b[39m))\n",
      "\u001b[1;31mTypeError\u001b[0m: Gradient only defined for scalar-output functions. Output had shape: (2,)."
     ]
    }
   ],
   "source": [
    "def F(x):\n",
    "    return jnp.array([x[0] ** 2 + x[1], x[0] + x[1] ** 2])\n",
    "\n",
    "\n",
    "grad_f = grad(F)  # Computes the gradient function\n",
    "x0 = jnp.array([2.0, 3.0])\n",
    "print(grad_f(x0))  # Output: [4. 6.]"
   ]
  },
  {
   "cell_type": "code",
   "execution_count": 26,
   "metadata": {},
   "outputs": [
    {
     "data": {
      "text/plain": [
       "<function __main__.f(x)>"
      ]
     },
     "execution_count": 26,
     "metadata": {},
     "output_type": "execute_result"
    }
   ],
   "source": [
    "f"
   ]
  },
  {
   "cell_type": "code",
   "execution_count": null,
   "metadata": {},
   "outputs": [],
   "source": []
  }
 ],
 "metadata": {
  "kernelspec": {
   "display_name": "Python 3",
   "language": "python",
   "name": "python3"
  },
  "language_info": {
   "codemirror_mode": {
    "name": "ipython",
    "version": 3
   },
   "file_extension": ".py",
   "mimetype": "text/x-python",
   "name": "python",
   "nbconvert_exporter": "python",
   "pygments_lexer": "ipython3",
   "version": "3.12.2"
  }
 },
 "nbformat": 4,
 "nbformat_minor": 2
}
