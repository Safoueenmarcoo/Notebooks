{
 "cells": [
  {
   "cell_type": "code",
   "execution_count": 276,
   "metadata": {},
   "outputs": [],
   "source": [
    "import jax.numpy as jnp\n",
    "from jax import grad, jacfwd\n",
    "from utils_v2 import KalmanFilter\n",
    "from typing import Tuple\n",
    "import math\n",
    "import matplotlib.pyplot as plt\n",
    "from matplotlib import style\n",
    "style.use(\"ggplot\")"
   ]
  },
  {
   "cell_type": "code",
   "execution_count": null,
   "metadata": {},
   "outputs": [],
   "source": [
    "sigma_x = 0.05\n",
    "sigma_t = 0.05\n",
    "N = 20\n",
    "M = 40\n",
    "x_values = jnp.arange(0, 1, sigma_x)\n",
    "t_values = jnp.arange(0, 2, sigma_t)\n",
    "v = 0.001"
   ]
  },
  {
   "cell_type": "code",
   "execution_count": 61,
   "metadata": {},
   "outputs": [],
   "source": [
    "u = jnp.sin(x_values * 2 * math.pi)\n",
    "f = jnp.cos(x_values * 4 * math.pi)\n",
    "nu = jnp.zeros(x_values.shape)"
   ]
  },
  {
   "cell_type": "code",
   "execution_count": 62,
   "metadata": {},
   "outputs": [
    {
     "data": {
      "text/plain": [
       "((20,), (20,), (20,))"
      ]
     },
     "execution_count": 62,
     "metadata": {},
     "output_type": "execute_result"
    }
   ],
   "source": [
    "u.shape, f.shape, nu.shape"
   ]
  },
  {
   "cell_type": "code",
   "execution_count": 63,
   "metadata": {},
   "outputs": [],
   "source": [
    "x_0 = jnp.expand_dims(jnp.r_[u, f, u, f, nu], axis=-1)"
   ]
  },
  {
   "cell_type": "code",
   "execution_count": 64,
   "metadata": {},
   "outputs": [],
   "source": [
    "A = -2 * jnp.ones(u.shape[0])\n",
    "A = jnp.diag(A)\n",
    "A += jnp.diag(jnp.ones(u.shape[0] - 1), k=-1) + jnp.diag(jnp.ones(u.shape[0] - 1), k=1)\n",
    "A /= sigma_x**2\n"
   ]
  },
  {
   "cell_type": "code",
   "execution_count": 65,
   "metadata": {},
   "outputs": [],
   "source": [
    "B = jnp.diag(jnp.ones(u.shape[0] - 1), k=-1) + jnp.diag(jnp.ones(u.shape[0] - 1), k=1)\n",
    "B /= 2 * sigma_x\n"
   ]
  },
  {
   "cell_type": "code",
   "execution_count": 66,
   "metadata": {},
   "outputs": [],
   "source": [
    "INVS = jnp.linalg.inv(jnp.eye(A.shape[0]) - 0.5 * sigma_t * v * A)"
   ]
  },
  {
   "cell_type": "code",
   "execution_count": null,
   "metadata": {},
   "outputs": [],
   "source": [
    "def new_u(\n",
    "    u: jnp.ndarray, f: jnp.ndarray, prev_u: jnp.ndarray, prev_f: jnp.ndarray, v: float\n",
    ") -> jnp.ndarray:\n",
    "    new_u = INVS\n",
    "    temp = (jnp.eye(A.shape[0]) - 0.5 * sigma_t * v * A) @ u\n",
    "\n",
    "    temp -= sigma_t * B @ (1.5 * u**2 - 0.5 * prev_u**2)\n",
    "    temp += sigma_t * (1.5 * f - 0.5 * prev_f)\n",
    "    new_u @= temp\n",
    "    return new_u"
   ]
  },
  {
   "cell_type": "code",
   "execution_count": null,
   "metadata": {},
   "outputs": [
    {
     "data": {
      "text/plain": [
       "Array([ 9.0394414e-04,  1.7579484e-01,  2.2770624e-01,  1.6910070e-01,\n",
       "        8.4750503e-02,  4.7221068e-02,  8.4750518e-02,  1.6910064e-01,\n",
       "        2.2770168e-01,  1.7532279e-01, -4.7221057e-02, -4.4271147e-01,\n",
       "       -9.4786936e-01, -1.4489338e+00, -1.8173625e+00, -1.9527792e+00,\n",
       "       -1.8173623e+00, -1.4489331e+00, -9.4786382e-01, -4.4224784e-01],      dtype=float32)"
      ]
     },
     "execution_count": 68,
     "metadata": {},
     "output_type": "execute_result"
    }
   ],
   "source": [
    "new_u(u, f, u, f, v)"
   ]
  },
  {
   "cell_type": "code",
   "execution_count": 210,
   "metadata": {},
   "outputs": [],
   "source": [
    "def new_state(\n",
    "    x_k: jnp.ndarray,\n",
    "    __: jnp.ndarray = None,\n",
    ") -> jnp.ndarray:\n",
    "    start = 0\n",
    "    end = u.shape[0]\n",
    "    u_k = x_k[start:end]\n",
    "    start += f.shape[0]\n",
    "    end += f.shape[0]\n",
    "    f_k = x_k[start:end]\n",
    "    start += u.shape[0]\n",
    "    end += u.shape[0]\n",
    "    prev_u_k = x_k[start:end]\n",
    "    start += f.shape[0]\n",
    "    end += f.shape[0]\n",
    "    prev_f_k = x_k[start:end]\n",
    "    nu = x_k[end:]\n",
    "\n",
    "    new_x = jnp.r_[new_u(u_k, prev_u_k, f_k, prev_f_k, v), f_k, u_k, f_k, nu]\n",
    "    return new_x"
   ]
  },
  {
   "cell_type": "code",
   "execution_count": 211,
   "metadata": {},
   "outputs": [
    {
     "data": {
      "text/plain": [
       "(100, 1)"
      ]
     },
     "execution_count": 211,
     "metadata": {},
     "output_type": "execute_result"
    }
   ],
   "source": [
    "new_state(x_0).shape"
   ]
  },
  {
   "cell_type": "code",
   "execution_count": null,
   "metadata": {},
   "outputs": [
    {
     "data": {
      "text/plain": [
       "((20, 20), (20, 20))"
      ]
     },
     "execution_count": 11,
     "metadata": {},
     "output_type": "execute_result"
    }
   ],
   "source": [
    "A.shape, B.shape"
   ]
  },
  {
   "cell_type": "code",
   "execution_count": 24,
   "metadata": {},
   "outputs": [
    {
     "data": {
      "text/plain": [
       "20"
      ]
     },
     "execution_count": 24,
     "metadata": {},
     "output_type": "execute_result"
    }
   ],
   "source": [
    "u.shape[0]"
   ]
  },
  {
   "cell_type": "code",
   "execution_count": 283,
   "metadata": {},
   "outputs": [],
   "source": [
    "class ExtendedKalmanFilter(KalmanFilter):\n",
    "    def __init__(\n",
    "        self,\n",
    "        x_0: jnp.ndarray | float | int,\n",
    "        f: callable,\n",
    "        h: callable,\n",
    "        R: jnp.ndarray,\n",
    "        Q: jnp.ndarray,\n",
    "        Z: jnp.ndarray,\n",
    "        w_k: jnp.ndarray,\n",
    "        P_0: jnp.ndarray,\n",
    "        jaccobian_f: callable = None,\n",
    "        jaccobian_h: callable = None,\n",
    "    ) -> None:\n",
    "        if not isinstance(x_0, (jnp.ndarray, float, int)):\n",
    "            raise Exception(\n",
    "                \"The State input must be of type jnp.ndarray, float, or int\"\n",
    "            )\n",
    "        # Expand scalar state into array if necessary\n",
    "        x_0 = jnp.expand_dims(x_0, axis=-1) if type(x_0) in (int, float) else x_0\n",
    "        super().__init__(x_0, None, None, None, None, R, Q, Z, w_k, P_0)\n",
    "        if jaccobian_f is not None:\n",
    "            self._function_f = jaccobian_f\n",
    "            self._set_matrix_f = self._set_none\n",
    "            self.A = self._function_f(self.x_k)\n",
    "\n",
    "        else:\n",
    "            self._set_matrix_f = self._matrix_f\n",
    "\n",
    "        self.f = f  # Nonlinear state transition function: f(x, u)\n",
    "\n",
    "        if jaccobian_h is not None:\n",
    "            self._function_h = jaccobian_h\n",
    "            self._set_matrix_h = self._set_none\n",
    "            self.H = self._function_h(self.x_k)\n",
    "        else:\n",
    "            self._set_matrix_h = self._matrix_h\n",
    "\n",
    "        self.h = h  # Nonlinear measurement function: h(x)\n",
    "\n",
    "    def _derivative(\n",
    "        self, f: callable, x: float | jnp.ndarray, h: float = 1e-5\n",
    "    ) -> jnp.ndarray:\n",
    "        \"\"\"\n",
    "        Compute finite-difference derivative for a scalar function.\n",
    "        If x is a jnp.ndarray, assumes single element.\n",
    "        \"\"\"\n",
    "        if isinstance(x, jnp.ndarray):\n",
    "            x = x[0]\n",
    "        return jnp.array((f(x + h) - f(x - h)) / (2 * h))\n",
    "\n",
    "    def _gradient(\n",
    "        self, f: callable, x: jnp.ndarray, u: jnp.ndarray = None\n",
    "    ) -> jnp.ndarray:\n",
    "        \"\"\"\n",
    "        Compute the gradient of a scalar-valued function f at x.\n",
    "        Returns the gradient as a diagonal matrix.\n",
    "        \"\"\"\n",
    "        grad_f = grad(f)\n",
    "        # Wrap gradient vector as a diagonal matrix\n",
    "        return grad_f(x) if u is None else grad_f(x, u)\n",
    "\n",
    "    def _jacobian(\n",
    "        self, f: callable, x: jnp.ndarray, u: jnp.ndarray = None\n",
    "    ) -> jnp.ndarray:\n",
    "        \"\"\"\n",
    "        Compute the full Jacobian of a vector-valued function f at x.\n",
    "        \"\"\"\n",
    "        jac_F = jacfwd(f)\n",
    "        return jnp.array(jac_F(x)) if u is None else jnp.array(jac_F(x, u))\n",
    "\n",
    "    def _set_none(self, u_k: jnp.ndarray = None) -> None:\n",
    "        pass\n",
    "\n",
    "    def _matrix_f(self, u_k: jnp.ndarray) -> None:\n",
    "        \"\"\"\n",
    "        Set the matrices A and H by choosing the appropriate differentiation method\n",
    "        based on the initial state shape. Also stores the chosen function in _function.\n",
    "        \"\"\"\n",
    "        try:\n",
    "            # Check if state is scalar-like: either a float/int or a 0-dim jnp.ndarray.\n",
    "            if type(self.x_k) in (float, int) or (\n",
    "                type(self.x_k) is jnp.ndarray\n",
    "                and jnp.array(self.x_k).squeeze().shape == ()\n",
    "            ):\n",
    "                self.A = self._derivative(self.f, self.x_k)\n",
    "                self._function_f = self._derivative\n",
    "                self._function_h = self._derivative\n",
    "            # If state is a vector (1-dimensional array)\n",
    "            elif self.x_k.squeeze().ndim == 1:\n",
    "                self.A = self._gradient(self.f, self.x_k, u_k)\n",
    "                self._function_f = self._gradient\n",
    "                self._function_h = self._gradient\n",
    "            # Otherwise assume state is higher-dimensional and use the Jacobian\n",
    "            else:\n",
    "                self.A = self._jacobian(self.f, self.x_k, u_k)\n",
    "                self._function_f = self._jacobian\n",
    "                self._function_h = self._jacobian\n",
    "        except Exception as e:\n",
    "            raise RuntimeError(f\"Error in EKF defining matrix F function: {e}\") from e\n",
    "\n",
    "    def _matrix_h(self) -> None:\n",
    "        \"\"\"\n",
    "        Set the matrices A and H by choosing the appropriate differentiation method\n",
    "        based on the initial state shape. Also stores the chosen function in _function.\n",
    "        \"\"\"\n",
    "        try:\n",
    "            # Check if state is scalar-like: either a float/int or a 0-dim jnp.ndarray.\n",
    "            if type(self.x_k) in (float, int) or (\n",
    "                type(self.x_k) is jnp.ndarray\n",
    "                and jnp.array(self.x_k).squeeze().shape == ()\n",
    "            ):\n",
    "                self.H = self._derivative(self.h, self.x_k)\n",
    "                self._function_f = self._derivative\n",
    "                self._function_h = self._derivative\n",
    "            # If state is a vector (1-dimensional array)\n",
    "            elif self.x_k.squeeze().ndim == 1:\n",
    "                self.H = self._gradient(self.h, self.x_k)\n",
    "                self._function_f = self._gradient\n",
    "                self._function_h = self._gradient\n",
    "            # Otherwise assume state is higher-dimensional and use the Jacobian\n",
    "            else:\n",
    "                self.H = self._jacobian(self.h, self.x_k)\n",
    "                self._function_f = self._jacobian\n",
    "                self._function_h = self._jacobian\n",
    "        except Exception as e:\n",
    "            raise RuntimeError(f\"Error in EKF defining matrix H function: {e}\") from e\n",
    "\n",
    "    def _step_estimation(self, u_k: jnp.ndarray) -> jnp.ndarray:\n",
    "        \"\"\"\n",
    "        Predicts the next state using the nonlinear system dynamics f and control input u_k.\n",
    "\n",
    "        Args:\n",
    "            u_k: Control input vector (m x 1)\n",
    "\n",
    "        Returns:\n",
    "            Predicted state vector (n x 1)\n",
    "\n",
    "        Raises:\n",
    "            RuntimeError: If an error occurs during the prediction.\n",
    "        \"\"\"\n",
    "\n",
    "        try:\n",
    "            self._set_matrix_f(u_k)\n",
    "            self._set_matrix_h()\n",
    "            new_x_k = self.f(self.x_k, u_k) + self.w_k\n",
    "            return new_x_k\n",
    "        except Exception as e:\n",
    "            raise RuntimeError(f\"Error in EKF step estimation:{e}\") from e\n",
    "\n",
    "    def _current_state_and_process(\n",
    "        self, x_km: jnp.ndarray\n",
    "    ) -> Tuple[jnp.ndarray, jnp.ndarray]:\n",
    "        \"\"\"\n",
    "        Updates the state estimate using a measurement and the Kalman gain.\n",
    "\n",
    "        This function recomputes the linearization matrices A and H based on the current state.\n",
    "\n",
    "        Args:\n",
    "            x_km: Noisy measurement vector (p x 1)\n",
    "\n",
    "        Returns:\n",
    "            A tuple containing:\n",
    "            - Corrected state estimate (n x 1)\n",
    "            - Updated error covariance matrix (n x n)\n",
    "\n",
    "        Raises:\n",
    "            RuntimeError: If an error occurs during state update.\n",
    "        \"\"\"\n",
    "        try:\n",
    "            # Recompute linearization at current state\n",
    "            self.A = self._function_f(self.x_k)\n",
    "            self.H = self._function_h(self.x_k)\n",
    "            measurements = self.H @ x_km + self.Z\n",
    "            x_k = self.x_k + self.K @ (measurements - self.H @ self.x_k)\n",
    "            p_k = (jnp.eye(self.K.shape[0]) - self.K @ self.H) @ self.P\n",
    "            return x_k, p_k\n",
    "        except Exception as e:\n",
    "            raise RuntimeError(f\"Error in EKF state and process update:{e}\") from e"
   ]
  },
  {
   "cell_type": "code",
   "execution_count": 262,
   "metadata": {},
   "outputs": [],
   "source": [
    "def jaccobian_f(x_k: jnp.ndarray) -> jnp.ndarray:\n",
    "    Fuu = (\n",
    "        jnp.eye(A.shape[0])\n",
    "        + 0.5 * sigma_t * v * A\n",
    "        - 3 * B @ jnp.diag(x_k[: A.shape[0]].squeeze()) * sigma_t\n",
    "    )\n",
    "    Fuu += 0.5 * B @ jnp.diag(x_k[A.shape[0] : 2 * A.shape[0]].squeeze()) * sigma_t\n",
    "    Fuu @= INVS\n",
    "\n",
    "    eye = jnp.eye(f.shape[0])\n",
    "    zero = jnp.zeros(A.shape)\n",
    "\n",
    "    Fuf = jnp.eye(f.shape[0]) * sigma_t\n",
    "\n",
    "    F = jnp.block([[Fuu, Fuf, zero, zero, zero], [zero, eye, zero, zero, zero], [zero, zero, eye, zero, zero], [zero, zero, zero, eye, zero], [zero, zero, zero, zero,eye]])\n",
    "    return F"
   ]
  },
  {
   "cell_type": "code",
   "execution_count": 263,
   "metadata": {},
   "outputs": [
    {
     "data": {
      "text/plain": [
       "(20, 20)"
      ]
     },
     "execution_count": 263,
     "metadata": {},
     "output_type": "execute_result"
    }
   ],
   "source": [
    "jnp.diag(x_0[: A.shape[0]].squeeze()).shape"
   ]
  },
  {
   "cell_type": "code",
   "execution_count": 264,
   "metadata": {},
   "outputs": [
    {
     "data": {
      "text/plain": [
       "Array([[ 0.0000000e+00],\n",
       "       [ 3.0901700e-01],\n",
       "       [ 5.8778524e-01],\n",
       "       [ 8.0901706e-01],\n",
       "       [ 9.5105654e-01],\n",
       "       [ 1.0000000e+00],\n",
       "       [ 9.5105648e-01],\n",
       "       [ 8.0901700e-01],\n",
       "       [ 5.8778518e-01],\n",
       "       [ 3.0901679e-01],\n",
       "       [-8.7422777e-08],\n",
       "       [-3.0901721e-01],\n",
       "       [-5.8778554e-01],\n",
       "       [-8.0901712e-01],\n",
       "       [-9.5105648e-01],\n",
       "       [-1.0000000e+00],\n",
       "       [-9.5105648e-01],\n",
       "       [-8.0901682e-01],\n",
       "       [-5.8778495e-01],\n",
       "       [-3.0901694e-01]], dtype=float32)"
      ]
     },
     "execution_count": 264,
     "metadata": {},
     "output_type": "execute_result"
    }
   ],
   "source": [
    "x_0[: A.shape[0]]"
   ]
  },
  {
   "cell_type": "code",
   "execution_count": 265,
   "metadata": {},
   "outputs": [],
   "source": [
    "def h(x_k: jnp.ndarray) -> jnp.ndarray:\n",
    "    return jnp.block([jnp.eye(A.shape[0]),jnp.zeros(A.shape),jnp.zeros(A.shape),jnp.zeros(A.shape),jnp.zeros(A.shape)])\n"
   ]
  },
  {
   "cell_type": "code",
   "execution_count": 266,
   "metadata": {},
   "outputs": [],
   "source": [
    "R = jnp.eye(u.shape[0]) * 0.005\n",
    "\n",
    "Q = jnp.eye(5 * u.shape[0]) * 0.005\n",
    "mean = 0\n",
    "std_dev = 0.005\n",
    "\n",
    "P_0 = jnp.eye(5 * u.shape[0])\n",
    "Z = jnp.zeros((A.shape[0],1))\n",
    "w_k = jnp.zeros((5 * A.shape[0],1))\n"
   ]
  },
  {
   "cell_type": "code",
   "execution_count": 284,
   "metadata": {},
   "outputs": [],
   "source": [
    "ekf = ExtendedKalmanFilter(x_0, new_state, h, R, Q, Z, w_k, P_0, jaccobian_f, h)"
   ]
  },
  {
   "cell_type": "code",
   "execution_count": 285,
   "metadata": {},
   "outputs": [
    {
     "data": {
      "text/plain": [
       "Array([ 9.0394414e-04,  1.7579484e-01,  2.2770624e-01,  1.6910070e-01,\n",
       "        8.4750503e-02,  4.7221068e-02,  8.4750518e-02,  1.6910064e-01,\n",
       "        2.2770168e-01,  1.7532279e-01, -4.7221057e-02, -4.4271147e-01,\n",
       "       -9.4786936e-01, -1.4489338e+00, -1.8173625e+00, -1.9527792e+00,\n",
       "       -1.8173623e+00, -1.4489331e+00, -9.4786382e-01, -4.4224784e-01,\n",
       "        1.0000000e+00,  8.0901700e-01,  3.0901697e-01, -3.0901715e-01,\n",
       "       -8.0901706e-01, -1.0000000e+00, -8.0901676e-01, -3.0901709e-01,\n",
       "        3.0901712e-01,  8.0901724e-01,  1.0000000e+00,  8.0901676e-01,\n",
       "        3.0901635e-01, -3.0901745e-01, -8.0901688e-01, -1.0000000e+00,\n",
       "       -8.0901682e-01, -3.0901650e-01,  3.0901775e-01,  8.0901706e-01,\n",
       "        0.0000000e+00,  3.0901700e-01,  5.8778524e-01,  8.0901706e-01,\n",
       "        9.5105654e-01,  1.0000000e+00,  9.5105648e-01,  8.0901700e-01,\n",
       "        5.8778518e-01,  3.0901679e-01, -8.7422777e-08, -3.0901721e-01,\n",
       "       -5.8778554e-01, -8.0901712e-01, -9.5105648e-01, -1.0000000e+00,\n",
       "       -9.5105648e-01, -8.0901682e-01, -5.8778495e-01, -3.0901694e-01,\n",
       "        1.0000000e+00,  8.0901700e-01,  3.0901697e-01, -3.0901715e-01,\n",
       "       -8.0901706e-01, -1.0000000e+00, -8.0901676e-01, -3.0901709e-01,\n",
       "        3.0901712e-01,  8.0901724e-01,  1.0000000e+00,  8.0901676e-01,\n",
       "        3.0901635e-01, -3.0901745e-01, -8.0901688e-01, -1.0000000e+00,\n",
       "       -8.0901682e-01, -3.0901650e-01,  3.0901775e-01,  8.0901706e-01,\n",
       "        0.0000000e+00,  0.0000000e+00,  0.0000000e+00,  0.0000000e+00,\n",
       "        0.0000000e+00,  0.0000000e+00,  0.0000000e+00,  0.0000000e+00,\n",
       "        0.0000000e+00,  0.0000000e+00,  0.0000000e+00,  0.0000000e+00,\n",
       "        0.0000000e+00,  0.0000000e+00,  0.0000000e+00,  0.0000000e+00,\n",
       "        0.0000000e+00,  0.0000000e+00,  0.0000000e+00,  0.0000000e+00],      dtype=float32)"
      ]
     },
     "execution_count": 285,
     "metadata": {},
     "output_type": "execute_result"
    }
   ],
   "source": [
    "ekf.predict(jnp.eye(u.shape[0]))"
   ]
  },
  {
   "cell_type": "code",
   "execution_count": 287,
   "metadata": {},
   "outputs": [
    {
     "data": {
      "text/plain": [
       "Array([ 1.7664654e-03,  3.0142799e-01,  5.6011492e-01,  7.8310555e-01,\n",
       "        9.5816779e-01,  1.0286007e+00,  9.5814884e-01,  7.8309619e-01,\n",
       "        5.6013137e-01,  3.0144697e-01,  1.5398338e-03, -3.0910599e-01,\n",
       "       -5.8915925e-01, -8.0812192e-01, -9.5139134e-01, -1.0016878e+00,\n",
       "       -9.5055485e-01, -8.0886179e-01, -5.8930051e-01, -3.0816025e-01,\n",
       "        9.8233563e-01,  8.8491291e-01,  5.8572084e-01, -4.9890548e-02,\n",
       "       -8.8010418e-01, -1.2860788e+00, -8.7991834e-01, -4.9827754e-02,\n",
       "        5.8553314e-01,  8.8471162e-01,  9.8459566e-01,  8.0990690e-01,\n",
       "        3.2276058e-01, -3.1797606e-01, -8.0566764e-01, -9.8311764e-01,\n",
       "       -8.1402963e-01, -3.1057265e-01,  3.2417959e-01,  8.0045056e-01,\n",
       "        0.0000000e+00,  3.0901700e-01,  5.8778524e-01,  8.0901706e-01,\n",
       "        9.5105654e-01,  1.0000000e+00,  9.5105648e-01,  8.0901700e-01,\n",
       "        5.8778518e-01,  3.0901679e-01, -8.7422777e-08, -3.0901721e-01,\n",
       "       -5.8778554e-01, -8.0901712e-01, -9.5105648e-01, -1.0000000e+00,\n",
       "       -9.5105648e-01, -8.0901682e-01, -5.8778495e-01, -3.0901694e-01,\n",
       "        1.0000000e+00,  8.0901700e-01,  3.0901697e-01, -3.0901715e-01,\n",
       "       -8.0901706e-01, -1.0000000e+00, -8.0901676e-01, -3.0901709e-01,\n",
       "        3.0901712e-01,  8.0901724e-01,  1.0000000e+00,  8.0901676e-01,\n",
       "        3.0901635e-01, -3.0901745e-01, -8.0901688e-01, -1.0000000e+00,\n",
       "       -8.0901682e-01, -3.0901650e-01,  3.0901775e-01,  8.0901706e-01,\n",
       "        0.0000000e+00,  0.0000000e+00,  0.0000000e+00,  0.0000000e+00,\n",
       "        0.0000000e+00,  0.0000000e+00,  0.0000000e+00,  0.0000000e+00,\n",
       "        0.0000000e+00,  0.0000000e+00,  0.0000000e+00,  0.0000000e+00,\n",
       "        0.0000000e+00,  0.0000000e+00,  0.0000000e+00,  0.0000000e+00,\n",
       "        0.0000000e+00,  0.0000000e+00,  0.0000000e+00,  0.0000000e+00],      dtype=float32)"
      ]
     },
     "execution_count": 287,
     "metadata": {},
     "output_type": "execute_result"
    }
   ],
   "source": [
    "ekf.update(x_0)"
   ]
  },
  {
   "cell_type": "code",
   "execution_count": 275,
   "metadata": {},
   "outputs": [
    {
     "data": {
      "image/png": "[encoded data removed]",
      "text/plain": [
       "<Figure size 640x480 with 1 Axes>"
      ]
     },
     "metadata": {},
     "output_type": "display_data"
    }
   ],
   "source": [
    "fig,ax=plt.subplots()\n",
    "ax.plot(x_values,u)\n",
    "plt.show()"
   ]
  },
  {
   "cell_type": "code",
   "execution_count": null,
   "metadata": {},
   "outputs": [],
   "source": []
  }
 ],
 "metadata": {
  "kernelspec": {
   "display_name": "Python 3",
   "language": "python",
   "name": "python3"
  },
  "language_info": {
   "codemirror_mode": {
    "name": "ipython",
    "version": 3
   },
   "file_extension": ".py",
   "mimetype": "text/x-python",
   "name": "python",
   "nbconvert_exporter": "python",
   "pygments_lexer": "ipython3",
   "version": "3.12.2"
  }
 },
 "nbformat": 4,
 "nbformat_minor": 2
}
